{
 "cells": [
  {
   "cell_type": "markdown",
   "id": "d7a5a597-0c0c-46a5-b470-a8d8587a147c",
   "metadata": {},
   "source": [
    "# Creative Problems"
   ]
  },
  {
   "cell_type": "markdown",
   "id": "9236d9d7-5be2-479d-adf4-420a27d6a9ad",
   "metadata": {},
   "source": [
    "**1.3.32 Steque.** A stack-ended queue or steque is a data type that supports `push`, `pop`, and `enqueue`. Articulate an API for this ADT. Develop a linked-list-based implementation.\n"
   ]
  },
  {
   "cell_type": "code",
   "execution_count": 8,
   "id": "fb0b43f9-ce82-4620-b543-4b83b331ea3e",
   "metadata": {},
   "outputs": [
    {
     "name": "stdout",
     "output_type": "stream",
     "text": [
      "After pushing 3 elements, size: 3\n",
      "Popped element: 3\n",
      "Size after pop: 2\n",
      "After enqueueing 2 elements, size: 4\n",
      "Dequeued element: 2\n",
      "Size after dequeue: 3\n",
      "Is the steque empty? false\n"
     ]
    }
   ],
   "source": [
    "public class Steque<T> {\n",
    "    private int size;\n",
    "    private Node first;\n",
    "    private Node last;\n",
    "\n",
    "    public void push(T x) {\n",
    "        if (size == 0) {\n",
    "            first = new Node();\n",
    "            first.item = x;\n",
    "            last = first;\n",
    "        } else {\n",
    "            Node newHead = new Node();\n",
    "            newHead.item = x;\n",
    "            newHead.next = first;\n",
    "            first = newHead;\n",
    "        }\n",
    "        size++;\n",
    "    }\n",
    "    public T pop() {\n",
    "        if (size == 0) return null;\n",
    "        T x = first.item;\n",
    "        first = first.next;\n",
    "        size--;\n",
    "        return x;\n",
    "    }\n",
    "\n",
    "    public T dequeue() {\n",
    "        return pop();\n",
    "    }\n",
    "    public void enqueue(T x) {\n",
    "        Node newTail = new Node();\n",
    "        newTail.item = x;\n",
    "        last.next = newTail;\n",
    "        last = newTail;\n",
    "        size++;\n",
    "    }\n",
    "    public int size() { return size; }\n",
    "    public boolean isEmpty() { return size == 0; }\n",
    "    \n",
    "    private class Node {\n",
    "        T item;\n",
    "        Node next;\n",
    "    }\n",
    "\n",
    "    public static void main(String[] args) {\n",
    "        Steque<Integer> steque = new Steque<>();\n",
    "\n",
    "        // Push elements\n",
    "        steque.push(1);\n",
    "        steque.push(2);\n",
    "        steque.push(3);\n",
    "        System.out.println(\"After pushing 3 elements, size: \" + steque.size());\n",
    "\n",
    "        // Pop an element\n",
    "        System.out.println(\"Popped element: \" + steque.pop());\n",
    "        System.out.println(\"Size after pop: \" + steque.size());\n",
    "\n",
    "        // Enqueue elements\n",
    "        steque.enqueue(4);\n",
    "        steque.enqueue(5);\n",
    "        System.out.println(\"After enqueueing 2 elements, size: \" + steque.size());\n",
    "\n",
    "        // Dequeue an element\n",
    "        System.out.println(\"Dequeued element: \" + steque.dequeue());\n",
    "        System.out.println(\"Size after dequeue: \" + steque.size());\n",
    "\n",
    "        // Check if empty\n",
    "        System.out.println(\"Is the steque empty? \" + steque.isEmpty());\n",
    "    }\n",
    "}\n",
    "\n",
    "Steque.main(null);"
   ]
  },
  {
   "cell_type": "code",
   "execution_count": null,
   "id": "a45dd4fa-bdfe-419f-82c9-47da7440f95f",
   "metadata": {},
   "outputs": [],
   "source": []
  }
 ],
 "metadata": {
  "kernelspec": {
   "display_name": "Java",
   "language": "java",
   "name": "java"
  },
  "language_info": {
   "codemirror_mode": "java",
   "file_extension": ".jshell",
   "mimetype": "text/x-java-source",
   "name": "Java",
   "pygments_lexer": "java",
   "version": "11.0.18+10"
  }
 },
 "nbformat": 4,
 "nbformat_minor": 5
}
