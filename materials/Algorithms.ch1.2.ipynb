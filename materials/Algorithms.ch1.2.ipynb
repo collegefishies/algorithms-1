{
 "cells": [
  {
   "cell_type": "markdown",
   "id": "b5244757-2d2e-4646-8fab-6725904526f9",
   "metadata": {
    "jp-MarkdownHeadingCollapsed": true
   },
   "source": [
    "# Using Abstract Data Types"
   ]
  },
  {
   "cell_type": "code",
   "execution_count": 9,
   "id": "5b371bf3-f4d2-45ae-85c2-a5111e1dd674",
   "metadata": {},
   "outputs": [],
   "source": [
    "public class Counter {\n",
    "    private String id;\n",
    "    private int count;\n",
    "    \n",
    "    Counter(String id) {\n",
    "        this.id = id;\n",
    "        count = 0;\n",
    "    }\n",
    "    public void increment() { count++; }\n",
    "    public int tally() { return count; }\n",
    "    // inherited method.\n",
    "    // allows .println() to print something.\n",
    "    public String toString() { return id + \": \" + count; }\n",
    "}"
   ]
  },
  {
   "cell_type": "code",
   "execution_count": 10,
   "id": "dfff253c-4ab4-406a-845c-633054a94f34",
   "metadata": {},
   "outputs": [
    {
     "name": "stdout",
     "output_type": "stream",
     "text": [
      "Votes: 1\n"
     ]
    }
   ],
   "source": [
    "Counter votes = new Counter(\"Votes\");\n",
    "votes.increment();\n",
    "System.out.println(votes);"
   ]
  },
  {
   "cell_type": "markdown",
   "id": "f38253e4-4ee9-4e5d-befa-93c0bde2a9d1",
   "metadata": {
    "jp-MarkdownHeadingCollapsed": true
   },
   "source": [
    "# Test default initializers"
   ]
  },
  {
   "cell_type": "code",
   "execution_count": 8,
   "id": "8ec073ad-81b0-4feb-9024-0b4fab8b2cf6",
   "metadata": {},
   "outputs": [
    {
     "name": "stdout",
     "output_type": "stream",
     "text": [
      "42 6\n"
     ]
    }
   ],
   "source": [
    "public class TestInit {\n",
    "    private int set;\n",
    "    private int test = 42;\n",
    "\n",
    "    TestInit() {\n",
    "        set = 6;\n",
    "    }\n",
    "\n",
    "    public String toString() {\n",
    "        return \"\" + test + \" \" + set;\n",
    "    }\n",
    "}\n",
    "\n",
    "System.out.println(new TestInit());"
   ]
  },
  {
   "cell_type": "markdown",
   "id": "831a4d74-0155-418c-9a07-3e6466393215",
   "metadata": {},
   "source": [
    "# Exercises"
   ]
  },
  {
   "cell_type": "code",
   "execution_count": 3,
   "id": "e70b194c-02d6-449a-9c01-6e6cf54d4dbd",
   "metadata": {},
   "outputs": [],
   "source": [
    "%jars ../src/algs4.jar"
   ]
  },
  {
   "cell_type": "markdown",
   "id": "9f665ded-9860-4892-90aa-b03c7764b444",
   "metadata": {},
   "source": [
    "**1.2.1** Write a `Point2D` client that takes an integer value `N` from the command line, generates `N` random points in the unit square, and computes the distance separating the closest pair of points."
   ]
  },
  {
   "cell_type": "code",
   "execution_count": 28,
   "id": "97dec4e2-26ac-4f18-af4f-9aceb0bf896d",
   "metadata": {},
   "outputs": [
    {
     "name": "stdout",
     "output_type": "stream",
     "text": [
      "The closest distance between points is: 7.158049496988709E-5\n"
     ]
    }
   ],
   "source": [
    "import edu.princeton.cs.algs4.Point2D;\n",
    "import edu.princeton.cs.algs4.StdDraw;\n",
    "import edu.princeton.cs.algs4.StdRandom;\n",
    "\n",
    "class Point2DTestClient {\n",
    "    private static double findClosestPairDistance(Point2D[] arr) {\n",
    "        double distance = Double.POSITIVE_INFINITY;\n",
    "        for (int i = 0; i < arr.length; i++) {\n",
    "            for (int j = i + 1; j < arr.length; j++) {\n",
    "                distance = Math.min(distance, arr[i].distanceTo(arr[j]));\n",
    "            }\n",
    "        }\n",
    "\n",
    "        return distance;\n",
    "    }\n",
    "    \n",
    "    public static void runClosestPairTest(int N) {\n",
    "        StdRandom.setSeed(42); //StdDraw.clear();\n",
    "        Point2D[] points = new Point2D[N];\n",
    "        for (int i = 0; i < N; i++) {\n",
    "            double x = StdRandom.uniform();\n",
    "            double y = StdRandom.uniform();\n",
    "            points[i] = new Point2D(x,y);\n",
    "            //points[i].draw();\n",
    "        }\n",
    "\n",
    "        System.out.println(\"The closest distance between points is: \" + findClosestPairDistance(points));\n",
    "    }\n",
    "\n",
    "    public static void main(String[] args) {\n",
    "        if (args.length != 0) { System.out.println(\"Needs 1 argument\"); return; }\n",
    "        \n",
    "        int N = Integer.parseInt(args[0]);\n",
    "        runClosestPairTest(N);\n",
    "    }\n",
    "}\n",
    "\n",
    "Point2DTestClient.runClosestPairTest(10000);"
   ]
  },
  {
   "cell_type": "markdown",
   "id": "db8ab0d9-eb1d-4986-b0a0-45133408a15e",
   "metadata": {},
   "source": [
    "**1.2.2** Write an `Interval1D` client that takes an `int` value `N` as command-line argument, reads `N` intervals (each defined by a pair of `double` values) from standard input, and prints all pairs that intersect.\n"
   ]
  },
  {
   "cell_type": "code",
   "execution_count": 27,
   "id": "bf14600d-c8e5-4dd2-bb49-4756af1efac5",
   "metadata": {},
   "outputs": [
    {
     "name": "stdout",
     "output_type": "stream",
     "text": [
      "(  0,  2): [0.683, 0.728] [0.666, 0.903]\n",
      "(  0,  4): [0.683, 0.728] [0.464, 0.783]\n",
      "(  0,  5): [0.683, 0.728] [0.436, 0.919]\n",
      "(  0,  6): [0.683, 0.728] [0.387, 0.750]\n",
      "(  0,  8): [0.683, 0.728] [0.210, 0.826]\n",
      "(  1,  3): [0.277, 0.309] [0.276, 0.369]\n",
      "(  1,  7): [0.277, 0.309] [0.177, 0.594]\n",
      "(  1,  8): [0.277, 0.309] [0.210, 0.826]\n",
      "(  1,  9): [0.277, 0.309] [0.172, 0.587]\n",
      "(  2,  4): [0.666, 0.903] [0.464, 0.783]\n",
      "(  2,  5): [0.666, 0.903] [0.436, 0.919]\n",
      "(  2,  6): [0.666, 0.903] [0.387, 0.750]\n",
      "(  2,  8): [0.666, 0.903] [0.210, 0.826]\n",
      "(  3,  7): [0.276, 0.369] [0.177, 0.594]\n",
      "(  3,  8): [0.276, 0.369] [0.210, 0.826]\n",
      "(  3,  9): [0.276, 0.369] [0.172, 0.587]\n",
      "(  4,  5): [0.464, 0.783] [0.436, 0.919]\n",
      "(  4,  6): [0.464, 0.783] [0.387, 0.750]\n",
      "(  4,  7): [0.464, 0.783] [0.177, 0.594]\n",
      "(  4,  8): [0.464, 0.783] [0.210, 0.826]\n",
      "(  4,  9): [0.464, 0.783] [0.172, 0.587]\n",
      "(  5,  6): [0.436, 0.919] [0.387, 0.750]\n",
      "(  5,  7): [0.436, 0.919] [0.177, 0.594]\n",
      "(  5,  8): [0.436, 0.919] [0.210, 0.826]\n",
      "(  5,  9): [0.436, 0.919] [0.172, 0.587]\n",
      "(  6,  7): [0.387, 0.750] [0.177, 0.594]\n",
      "(  6,  8): [0.387, 0.750] [0.210, 0.826]\n",
      "(  6,  9): [0.387, 0.750] [0.172, 0.587]\n",
      "(  7,  8): [0.177, 0.594] [0.210, 0.826]\n",
      "(  7,  9): [0.177, 0.594] [0.172, 0.587]\n",
      "(  8,  9): [0.210, 0.826] [0.172, 0.587]\n"
     ]
    }
   ],
   "source": [
    "%jars ../src/algs4.jar\n",
    "\n",
    "import edu.princeton.cs.algs4.Interval1D;\n",
    "import edu.princeton.cs.algs4.StdIn;\n",
    "import edu.princeton.cs.algs4.StdOut;\n",
    "import edu.princeton.cs.algs4.StdRandom;\n",
    "\n",
    "class Interval1DTest {\n",
    "    public static void main(String[] args) {\n",
    "        if (args.length != 0) {System.out.println(\"Needs one integer N\"); return; }\n",
    "        int N = Integer.parseInt(args[0]);\n",
    "        Interval1D[] intervals = new Interval1D[N];\n",
    "        int i = 0;\n",
    "        while (!StdIn.isEmpty()) {\n",
    "            double x, y;\n",
    "            x = StdIn.readDouble();\n",
    "            if (!StdIn.isEmpty()) y = StdIn.readDouble();\n",
    "            else break;\n",
    "                \n",
    "        }\n",
    "        \n",
    "        if (i != N - 1) throw new RuntimeException(\"Not as many intervals as expected\");\n",
    "        \n",
    "        printIntersectingIntervals(intervals);\n",
    "    }\n",
    "\n",
    "    public static void generateAndTestRandomIntervals(int N) {\n",
    "        StdRandom.setSeed(42);\n",
    "        Interval1D[] intervals = new Interval1D[N];\n",
    "        for (int i = 0; i < intervals.length; i++) {\n",
    "            double x = StdRandom.uniform();\n",
    "            double y = StdRandom.uniform();\n",
    "            if (y > x) intervals[i] = new Interval1D(x, y);\n",
    "            else intervals[i] = new Interval1D(y, x);\n",
    "        }\n",
    "\n",
    "        printIntersectingIntervals(intervals);\n",
    "    }\n",
    "    public static void printIntersectingIntervals(Interval1D[] interval) {\n",
    "        for (int i = 0; i < interval.length; i++) {\n",
    "            for (int j = i + 1; j < interval.length; j++) {\n",
    "                if (interval[i].intersects(interval[j])) {\n",
    "                    StdOut.printf(\"(%3d,%3d): [%.3f, %.3f] [%.3f, %.3f]\\n\",\n",
    "                                  i, j, \n",
    "                                  interval[i].left(), interval[i].right(),\n",
    "                                  interval[j].left(), interval[j].right()\n",
    "                                );\n",
    "                }\n",
    "            }\n",
    "        }\n",
    "    }\n",
    "}\n",
    "\n",
    "Interval1DTest.generateAndTestRandomIntervals(10);"
   ]
  },
  {
   "cell_type": "markdown",
   "id": "85dccd6e-ad7b-44bd-9ba9-edb17b7bc57e",
   "metadata": {},
   "source": [
    "**1.2.3** Write an `Interval2D` client that takes command-line arguments `N`, `min`, and `max` and generates `N` random 2D intervals whose width and height are uniformly distributed between `min` and `max` in the unit square. Draw them on `StdDraw` and print the number of pairs of intervals that intersect and the number of intervals that are contained in one another.\n"
   ]
  },
  {
   "cell_type": "code",
   "execution_count": 48,
   "id": "3086466c-6be4-4418-843c-14bb8619aab9",
   "metadata": {
    "scrolled": true
   },
   "outputs": [
    {
     "name": "stdout",
     "output_type": "stream",
     "text": [
      "Intersections: 2342\n"
     ]
    }
   ],
   "source": [
    "%jars ../src/algs4.jar\n",
    "\n",
    "import edu.princeton.cs.algs4.*;\n",
    "import edu.princeton.cs.algs4.Interval1D;\n",
    "\n",
    "class Interval2DTest {\n",
    "    public static void main(String[] args) {\n",
    "        int N = StdIn.readInt();\n",
    "        double min = StdIn.readDouble();\n",
    "        double max = StdIn.readDouble();\n",
    "\n",
    "        testIntersectingIntervals(N, min, max);\n",
    "    }\n",
    "    \n",
    "    public static void testIntersectingIntervals(int N, double min, double max) {\n",
    "        StdRandom.setSeed(42); StdDraw.clear();\n",
    "        Interval2D[] intervals = new Interval2D[N];\n",
    "        for (int i = 0; i < N; i++) {\n",
    "            double x, y, w, h;\n",
    "            x = StdRandom.uniform();\n",
    "            y = StdRandom.uniform();\n",
    "            w = StdRandom.uniform(min, max);\n",
    "            h = StdRandom.uniform(min, max);\n",
    "            intervals[i] = new Interval2D(\n",
    "                new Interval1D(x, x + w),\n",
    "                new Interval1D(y, y + h)\n",
    "            );\n",
    "            intervals[i].draw();\n",
    "        }\n",
    "\n",
    "        StdOut.println(\"Intersections: \" + countIntersectingIntervals(intervals));\n",
    "    }\n",
    "\n",
    "    private static int countIntersectingIntervals(Interval2D[] interval) {\n",
    "        int count = 0;\n",
    "        for (int i = 0; i < interval.length; i++) {\n",
    "            for (int j = i + 1; j < interval.length; j++) {\n",
    "                if (interval[i].intersects(interval[j])) count++;\n",
    "            }\n",
    "        }bv\n",
    "\n",
    "        return count;\n",
    "    }\n",
    "    private static int countContainedIntervals(Interval2D[] interval) {\n",
    "        // not possible with the API.\n",
    "        int count = 0;\n",
    "        return count;\n",
    "    }\n",
    "}\n",
    "\n",
    "Interval2DTest.testIntersectingIntervals(100, 0, 1);"
   ]
  },
  {
   "cell_type": "code",
   "execution_count": 49,
   "id": "90f05a79-000f-4d23-8230-d10d00735ece",
   "metadata": {},
   "outputs": [
    {
     "name": "stdout",
     "output_type": "stream",
     "text": [
      "world\n",
      "hello\n"
     ]
    }
   ],
   "source": [
    "String string1 = \"hello\";\n",
    "    String string2 = string1;\n",
    "    string1 = \"world\";\n",
    "    StdOut.println(string1);\n",
    "    StdOut.println(string2);"
   ]
  },
  {
   "cell_type": "markdown",
   "id": "cd3114c8-2485-461b-979b-c0e33f4647b2",
   "metadata": {},
   "source": [
    "**1.2.6** A string `s` is a circular rotation of a string `t` if it matches when the characters are circularly shifted by any number of positions; e.g., `ACTGACG` is a circular shift of `TGACGAC`, and vice versa. Detecting this condition is important in the study of genomic sequences. Write a program that checks whether two given strings `s` and `t` are circular shifts of one another. *Hint*: The solution is a one-liner with `indexOf()`, `length()`, and string concatenation.\n"
   ]
  },
  {
   "cell_type": "code",
   "execution_count": 24,
   "id": "748247ae-dbd2-4ddd-8eab-0883199cefa9",
   "metadata": {},
   "outputs": [
    {
     "data": {
      "text/plain": [
       "false"
      ]
     },
     "execution_count": 24,
     "metadata": {},
     "output_type": "execute_result"
    }
   ],
   "source": [
    "String a = \"ACTGACG\";\n",
    "String b = \"TGACGAC\";\n",
    "\n",
    "boolean areCircularShifts(String a, String b) {\n",
    "    return ((b + b).indexOf(a) != -1) && (a.length() == b.length());\n",
    "}\n",
    "\n",
    "areCircularShifts(a, b);"
   ]
  },
  {
   "cell_type": "markdown",
   "id": "9559c283-e0a3-40d3-bcec-4276df86aab4",
   "metadata": {},
   "source": [
    "**1.2.7** What does the following recursive function return?\n",
    "\n",
    "```java\n",
    "public static String mystery(String s) {\n",
    "    int N = s.length();\n",
    "    if (N <= 1) return s;\n",
    "    String a = s.substring(0, N/2);\n",
    "    String b = s.substring(N/2, N);\n",
    "    return mystery(b) + mystery(a);\n",
    "}\n"
   ]
  },
  {
   "cell_type": "code",
   "execution_count": 60,
   "id": "3c911e78-6a5c-45fe-b33b-925a73e58a54",
   "metadata": {},
   "outputs": [
    {
     "data": {
      "text/plain": [
       "dcba"
      ]
     },
     "execution_count": 60,
     "metadata": {},
     "output_type": "execute_result"
    }
   ],
   "source": [
    "public static String mystery(String s) {\n",
    "    int N = s.length();\n",
    "    if (N <= 1) return s;\n",
    "    String a = s.substring(0, N/2);\n",
    "    String b = s.substring(N/2, N);\n",
    "    return mystery(b) + mystery(a);\n",
    "}\n",
    "\n",
    "mystery(\"ab\");\n",
    "mystery(\"abc\");\n",
    "mystery(\"abcd\");"
   ]
  },
  {
   "cell_type": "markdown",
   "id": "b2efe56f-8e88-4ce4-9f22-8873cab45218",
   "metadata": {},
   "source": [
    "**1.2.8** Suppose that `a[]` and `b[]` are each integer arrays consisting of millions of integers. What does the following code do? Is it reasonably efficient?\n",
    "\n",
    "```\n",
    "int[] t = a; \n",
    "a = b; \n",
    "b = t;\n",
    "```\n",
    "\n",
    "**Solution**: It swaps the array references. Yes, its O(1) regardless of the size of the arrays.\n"
   ]
  },
  {
   "cell_type": "markdown",
   "id": "6b5b0872-a771-4809-aae5-07e532b619fd",
   "metadata": {},
   "source": [
    "**1.2.10** Develop a class `VisualCounter` that allows both increment and decrement operations. Take two arguments `N` and `max` in the constructor, where `N` specifies the maximum number of operations and `max` specifies the maximum absolute value for the counter. As a side effect, create a plot showing the value of the counter each time its tally changes."
   ]
  },
  {
   "cell_type": "code",
   "execution_count": 2,
   "id": "0a7ec246-9159-4fd0-abc1-128760d4bde6",
   "metadata": {},
   "outputs": [],
   "source": [
    "%jars ../src/algs4.jar\n",
    "\n",
    "import edu.princeton.cs.algs4.*;\n",
    "\n",
    "class VisualCounter {\n",
    "    private long max;\n",
    "    private long count;\n",
    "    private long operation;\n",
    "    private long N;\n",
    "    private Draw draw;\n",
    "    VisualCounter(long N, long max) {\n",
    "        this.N = N;\n",
    "        this.max = max;\n",
    "        count = 0;\n",
    "        operation = 0;\n",
    "        draw = new Draw();\n",
    "    }\n",
    "    \n",
    "    void increment() {\n",
    "        operation++;\n",
    "        if (count < max) count++;\n",
    "        draw.point(1.0 * operation / N, 0.5*count/max - 0.5);\n",
    "    }\n",
    "    \n",
    "    void decrement() {\n",
    "        operation++;\n",
    "        if (count > -max) count--; \n",
    "        draw.point(1.0 * operation / N, 0.5*count/max + 0.5);\n",
    "    }\n",
    "}\n",
    "\n",
    "int rtN = 100;\n",
    "int N = rtN*rtN;\n",
    "int max = 3*rtN/4;\n",
    "VisualCounter vc = new VisualCounter(N, max);\n",
    "for (int i = 0; i < N; i++) {\n",
    "    if (StdRandom.bernoulli(0.5)) vc.increment();\n",
    "    else vc.decrement();\n",
    "}\n"
   ]
  },
  {
   "cell_type": "markdown",
   "id": "715a129a-5270-4b7a-8a13-fc9b88aa5a48",
   "metadata": {},
   "source": [
    "**1.2.11** Develop an implementation `SmartDate` of our `Date` API that raises an exception if the date is not legal.\n",
    "\n",
    "```java\n",
    "public class Date implements Comparable<Date> {\n",
    "    Date(int month, int day, int year) // create a date\n",
    "    Date(String date) // create a date (parse constructor)\n",
    "    int month() // month\n",
    "    int day() // day\n",
    "    int year() // year\n",
    "    String toString() // string representation\n",
    "    boolean equals(Object that) // is this the same date as that?\n",
    "    int compareTo(Date that) // compare this date to that\n",
    "    int hashCode() // hash code\n",
    "}\n",
    "```"
   ]
  },
  {
   "cell_type": "code",
   "execution_count": 21,
   "id": "2bffb10a-5271-4ed2-977c-8184b372735a",
   "metadata": {},
   "outputs": [
    {
     "ename": "EvalException",
     "evalue": "Invalid day for February. Is a leap year.",
     "output_type": "error",
     "traceback": [
      "\u001b[1m\u001b[31m---------------------------------------------------------------------------\u001b[0m",
      "\u001b[1m\u001b[31mjava.lang.RuntimeException: Invalid day for February. Is a leap year.\u001b[0m",
      "\u001b[1m\u001b[31m\tat SmartDate.<init>(#27:18)\u001b[0m",
      "\u001b[1m\u001b[31m\tat .(#43:1)\u001b[0m"
     ]
    }
   ],
   "source": [
    "public class SmartDate {\n",
    "    private int month;\n",
    "    private int day;\n",
    "    private int year;\n",
    "\n",
    "    private boolean isLeapYear(int year) {\n",
    "        if (year % 400 == 0) return true;\n",
    "        if (year % 100 == 0) return false;\n",
    "        if (year % 4 == 0) return true;\n",
    "        return false;   \n",
    "    }\n",
    "    \n",
    "    public SmartDate(int month, int day, int year) {\n",
    "        if (month < 1 || month > 12) throw new RuntimeException(\"Invalid month\");\n",
    "        else if (day < 1 || day > 31) throw new RuntimeException(\"Invalid day\");\n",
    "    \n",
    "        if (month == 2 && !isLeapYear(year) && day > 28) throw new RuntimeException(\"Invalid day for February. Not a leap year.\");\n",
    "        else if (month == 2 && isLeapYear(year) && day > 29) throw new RuntimeException(\"Invalid day for February. Is a leap year.\");\n",
    "        else if ((month == 4 || month == 6 || month == 9 || month == 11) && day > 30) throw new RuntimeException(\"Invalid days for April, June, September, or November\");\n",
    "\n",
    "        this.month = month;\n",
    "        this.day = day;\n",
    "        this.year = year;\n",
    "    }\n",
    "\n",
    "    \n",
    "    public int month() { return month; }\n",
    "    public int day() { return day; }\n",
    "    public int year() { return year; }\n",
    "\n",
    "    public String toString() {return \"\" + month + \"/\" + day + \"/\" + year;}\n",
    "}\n",
    "\n",
    "new SmartDate(2, 30, 2000);"
   ]
  },
  {
   "cell_type": "markdown",
   "id": "360be819-3f8b-4488-8b10-3ad0cf1cfed2",
   "metadata": {
    "scrolled": true
   },
   "source": [
    "**1.2.12** Add a method `dayOfTheWeek()` to `SmartDate` that returns a `String` value Monday, Tuesday, Wednesday, Thursday, Friday, Saturday, or Sunday, giving the appropriate day of the week for the date. You may assume that the date is in the 21st century.\n"
   ]
  },
  {
   "cell_type": "code",
   "execution_count": 47,
   "id": "43c00448-4b52-4963-825c-941f6ae9b61c",
   "metadata": {},
   "outputs": [
    {
     "data": {
      "text/plain": [
       "Monday"
      ]
     },
     "execution_count": 47,
     "metadata": {},
     "output_type": "execute_result"
    }
   ],
   "source": [
    "public class SmartDate {\n",
    "    private final int month;\n",
    "    private final int day;\n",
    "    private final int year;\n",
    "\n",
    "    private boolean isLeapYear(int year) {\n",
    "        if (year % 400 == 0) return true;\n",
    "        if (year % 100 == 0) return false;\n",
    "        if (year % 4 == 0) return true;\n",
    "        return false;   \n",
    "    }\n",
    "\n",
    "    public String dayOfTheWeek() {\n",
    "        int q = day;\n",
    "        int m = (month >= 3) ? month : month + 12;\n",
    "        int newYear = (month >= 3) ? year : (year - 1);\n",
    "        int K = newYear % 100;\n",
    "        int J = (int) Math.floor(year / 100);\n",
    "        int h = (int) (q + Math.floor(13 * (m + 1) / 5) + K \n",
    "                 + Math.floor(K/4) + Math.floor(J/4) - 2*J) % 7;\n",
    "        switch (h) {\n",
    "            case 0: return \"Saturday\";\n",
    "            case 1: return \"Sunday\";\n",
    "            case 2: return \"Monday\";\n",
    "            case 3: return \"Tuesday\";\n",
    "            case 4: return \"Wednesday\";\n",
    "            case 5: return \"Thursday\";\n",
    "            case 6: return \"Friday\";\n",
    "        }\n",
    "\n",
    "        return \"Error\";\n",
    "    }\n",
    "    \n",
    "    public SmartDate(int month, int day, int year) {\n",
    "        if (month < 1 || month > 12) throw new RuntimeException(\"Invalid month\");\n",
    "        else if (day < 1 || day > 31) throw new RuntimeException(\"Invalid day\");\n",
    "    \n",
    "        if (month == 2 && !isLeapYear(year) && day > 28) \n",
    "            throw new RuntimeException(\"Invalid day for February. Not a leap year.\");\n",
    "        else if (month == 2 && isLeapYear(year) && day > 29) \n",
    "            throw new RuntimeException(\"Invalid day for February. Is a leap year.\");\n",
    "        else if ((month == 4 || month == 6 || month == 9 || month == 11) && day > 30) \n",
    "            throw new RuntimeException(\"Invalid days for April, June, September, or November\");\n",
    "\n",
    "        this.month = month;\n",
    "        this.day = day;\n",
    "        this.year = year;\n",
    "    }\n",
    "\n",
    "    \n",
    "    public int month() { return month; }\n",
    "    public int day() { return day; }\n",
    "    public int year() { return year; }\n",
    "\n",
    "    public String toString() {return \"\" + month + \"/\" + day + \"/\" + year;}\n",
    "    public boolean equals(Object x) {\n",
    "        if (this == x) return true;\n",
    "        if (x == null) return false;\n",
    "        if (this.getClass() != x.getClass()) return false;\n",
    "        SmartDate that = (SmartDate) x;\n",
    "        if (this.month != that.month) return false;\n",
    "        if (this.day != that.day) return false;\n",
    "        if (this.year != that.year) return false;\n",
    "        return true;\n",
    "    }\n",
    "}\n",
    "\n",
    "SmartDate x = new SmartDate(1, 1, 2024);\n",
    "x.dayOfTheWeek();"
   ]
  },
  {
   "cell_type": "markdown",
   "id": "503f2bd8-dcbb-457e-9f38-63ebd1a72fa0",
   "metadata": {},
   "source": [
    "**1.2.13** Using our implementation of `Date` as a model (page 91), develop an implementation of `Transaction`.\n"
   ]
  },
  {
   "cell_type": "code",
   "execution_count": 48,
   "id": "fbd42d92-eecc-4dae-a929-0be03db6749f",
   "metadata": {},
   "outputs": [],
   "source": [
    "class Transaction {\n",
    "    private final String who;\n",
    "    private final String what;\n",
    "    private final double amount;\n",
    "    private final SmartDate when;\n",
    "    \n",
    "    Transaction(String who, String what, double amount, SmartDate when) {\n",
    "        this.who = who;\n",
    "        this.what = what;\n",
    "        this.amount = amount;\n",
    "        this.when = when;\n",
    "    }\n",
    "\n",
    "    public String who() { return who; }\n",
    "    public String what() { return what; }\n",
    "    public double amount() { return amount; }\n",
    "    public SmartDate when() { return when; }\n",
    "}"
   ]
  },
  {
   "cell_type": "markdown",
   "id": "d496203d-3e0f-4cb7-a464-6c206ddacda3",
   "metadata": {},
   "source": [
    "**1.2.14** Using our implementation of `equals()` in `Date` as a model (page 103), develop implementations of `equals()` for `Transaction`.\n"
   ]
  },
  {
   "cell_type": "code",
   "execution_count": 49,
   "id": "ed1abb8c-f395-452e-92fb-7818fe65a0a3",
   "metadata": {},
   "outputs": [],
   "source": [
    "class Transaction {\n",
    "    private final String who;\n",
    "    private final String what;\n",
    "    private final double amount;\n",
    "    private final SmartDate when;\n",
    "    \n",
    "    Transaction(String who, String what, double amount, SmartDate when) {\n",
    "        this.who = who;\n",
    "        this.what = what;\n",
    "        this.amount = amount;\n",
    "        this.when = when;\n",
    "    }\n",
    "\n",
    "    public String who() { return who; }\n",
    "    public String what() { return what; }\n",
    "    public double amount() { return amount; }\n",
    "    public SmartDate when() { return when; }\n",
    "\n",
    "    public boolean equals(Object x) {\n",
    "        if (this == x) return true;\n",
    "        if (x == null) return false;\n",
    "        if (this.getClass() != x.getClass()) return false;\n",
    "        Transaction that = (Transaction) x;\n",
    "        if (this.who != that.who) return false;\n",
    "        if (this.what != that.what) return false;\n",
    "        if (this.amount != that.amount) return false;\n",
    "        if (this.when != that.when) return false;\n",
    "        return true;\n",
    "    }\n",
    "}"
   ]
  },
  {
   "cell_type": "markdown",
   "id": "4205b04d-f3d3-4f12-b43b-e03b8589a82d",
   "metadata": {},
   "source": [
    "# Creative Exercises"
   ]
  },
  {
   "cell_type": "markdown",
   "id": "600f09eb-53b0-48f0-9655-eca6678949a0",
   "metadata": {},
   "source": [
    "**1.2.15** *File input.* Develop a possible implementation of the static `readInts()` method from `In` (which we use for various test clients, such as binary search on page 47) that is based on the `split()` method in `String`.\n",
    "\n",
    "**Solution:**\n",
    "\n",
    "```java\n",
    "public static int[] readInts(String name) {\n",
    "    In in = new In(name);\n",
    "    String input = StdIn.readAll();\n",
    "    String[] words = input.split(\"\\\\s+\");\n",
    "    int[] ints = new int[words.length];\n",
    "    for (int i = 0; i < words.length; i++)\n",
    "        ints[i] = Integer.parseInt(words[i]);\n",
    "    return ints;\n",
    "}\n",
    "```\n",
    "*We will consider a different implementation in Section 1.3 (see page 126).*"
   ]
  },
  {
   "cell_type": "code",
   "execution_count": null,
   "id": "3b73a029-4b4d-4701-847d-0f9f129c83c7",
   "metadata": {},
   "outputs": [],
   "source": []
  },
  {
   "cell_type": "markdown",
   "id": "493f5dab-3aa7-488a-a4bc-645bff028b89",
   "metadata": {},
   "source": [
    "**1.2.16** *Rational numbers.* Implement an immutable data type `Rational` for rational numbers that supports addition, subtraction, multiplication, and division.\n",
    "\n",
    "```java\n",
    "public class Rational {\n",
    "    Rational(int numerator, int denominator) // Rational number\n",
    "\n",
    "    Rational plus(Rational b)     // sum of this number and b\n",
    "    Rational minus(Rational b)    // difference of this number and b\n",
    "    Rational times(Rational b)    // product of this number and b\n",
    "    Rational divides(Rational b)  // quotient of this number and b\n",
    "    boolean equals(Rational that) // is this number equal to that?\n",
    "    String toString()             // string representation\n",
    "}\n",
    "```\n",
    "*You do not have to worry about testing for overflow (see Exercise 1.2.17), but use as instance variables two long values that represent the numerator and denominator to limit the possibility of overflow. Use Euclid’s algorithm (see page 4) to ensure that the numerator and denominator never have any common factors. Include a test client that exercises all of your methods.*\n"
   ]
  },
  {
   "cell_type": "code",
   "execution_count": 37,
   "id": "0aa8692f-17a7-44a8-82aa-598bd135c9cc",
   "metadata": {},
   "outputs": [
    {
     "data": {
      "text/plain": [
       "65/14"
      ]
     },
     "execution_count": 37,
     "metadata": {},
     "output_type": "execute_result"
    }
   ],
   "source": [
    "public class Rational {\n",
    "    private int p; //numerator\n",
    "    private int q; //denominator\n",
    "    private int greatestCommonDenominator(int a, int b) {\n",
    "        if (a < 0) a = -a;\n",
    "        if (b < 0) b = -b;\n",
    "        \n",
    "        if (b == 0) return a;\n",
    "        else return greatestCommonDenominator(b, a % b);\n",
    "    }\n",
    "\n",
    "    private void simplify() {\n",
    "        int numerator = p;\n",
    "        int denominator = q;\n",
    "        if (denominator < 0) numerator *= -1;\n",
    "        \n",
    "        int gcd = greatestCommonDenominator(numerator, denominator);\n",
    "        p = numerator / gcd;\n",
    "        q = denominator / gcd;\n",
    "    }\n",
    "    \n",
    "    Rational(int numerator, int denominator) {\n",
    "        if (denominator == 0) throw new RuntimeException(\"Rational can't have zero in the deominator.\");\n",
    "        p = numerator;\n",
    "        q = denominator;\n",
    "        simplify();\n",
    "    }\n",
    "    public int getNumerator() { return p; }\n",
    "    public int getDenominator() { return q; }\n",
    "    \n",
    "    public Rational plus(Rational b) {\n",
    "        int n = b.getNumerator();\n",
    "        int m = b.getDenominator();\n",
    "        return new Rational(m*p + q*n, m*q);\n",
    "    }\n",
    "    \n",
    "    public Rational minus(Rational b) {\n",
    "        int n = b.getNumerator();\n",
    "        int m = b.getDenominator();\n",
    "        return new Rational(m*p - q*n, m*q);\n",
    "    }\n",
    "\n",
    "    public Rational times(Rational b) {\n",
    "        int n = b.getNumerator();\n",
    "        int m = b.getDenominator();\n",
    "        return new Rational(p*n, q*m);\n",
    "    }\n",
    "\n",
    "    public Rational dividedBy(Rational b) {\n",
    "        int n = b.getNumerator();\n",
    "        int m = b.getDenominator();\n",
    "        return new Rational(p*m, q*n);\n",
    "    } \n",
    "\n",
    "    public boolean equals(Object x) {\n",
    "        if (this == x) return true;\n",
    "        if (x == null) return false;\n",
    "        if (this.getClass() != x.getClass()) return false;\n",
    "        Rational that = (Rational) x;\n",
    "        if (that.getNumerator() != this.getNumerator()) return false;\n",
    "        if (that.getDenominator() != this.getDenominator()) return false;\n",
    "        return true;\n",
    "    }\n",
    "    \n",
    "    public String toString() {\n",
    "        if (q != 1) return \"\" + p + \"/\" + q;\n",
    "        else return \"\" + p;\n",
    "    }\n",
    "}\n",
    "\n",
    "Rational a = new Rational(5, 2);\n",
    "Rational b = new Rational(7, 13);\n",
    "a.dividedBy(b);"
   ]
  },
  {
   "cell_type": "markdown",
   "id": "42f0f2b3-c91a-4226-9f52-f2c758c25eb2",
   "metadata": {},
   "source": [
    "**1.2.17** *Robust implementation of rational numbers.* Use assertions to develop an implementation of `Rational` (see Exercise 1.2.16) that is immune to overflow."
   ]
  },
  {
   "cell_type": "code",
   "execution_count": 47,
   "id": "725cafe2-7a41-4ea5-8adc-5fa3c67567bf",
   "metadata": {},
   "outputs": [
    {
     "data": {
      "text/plain": [
       "65/14"
      ]
     },
     "execution_count": 47,
     "metadata": {},
     "output_type": "execute_result"
    }
   ],
   "source": [
    "public class RobustRational {\n",
    "    private int p; //numerator\n",
    "    private int q; //denominator\n",
    "    private int greatestCommonDenominator(int a, int b) {\n",
    "        if (a < 0) a = -a;\n",
    "        if (b < 0) b = -b;\n",
    "        \n",
    "        if (b == 0) return a;\n",
    "        else return greatestCommonDenominator(b, a % b);\n",
    "    }\n",
    "\n",
    "    private int mul(int a, int b) {\n",
    "        // safe multiply.\n",
    "        if (Integer.MAX_VALUE / Math.abs(a) <= Math.abs(b))\n",
    "            throw new ArithmeticException(\"Overflow in Rational Calculation : MULT : \" + a + \" x \" + b);\n",
    "        return a * b;\n",
    "    }\n",
    "\n",
    "    private int add(int a, int b) {\n",
    "        // safe add\n",
    "        if ( a > 0 && b > 0 ) {\n",
    "            if (Integer.MAX_VALUE - a < b) throw new ArithmeticException(\"Overflow in Rational Calculation : ADD\"); \n",
    "        } else if ( a < 0 && b < 0) {\n",
    "            if (Integer.MIN_VALUE - a > b) throw new ArithmeticException(\"Overflow in Rational Calculation : ADD\"\n",
    "                                                                        ); \n",
    "        }\n",
    "\n",
    "        return a + b;\n",
    "    }\n",
    "\n",
    "    private void simplify() {\n",
    "        int numerator = p;\n",
    "        int denominator = q;\n",
    "        if (denominator < 0) numerator *= -1;\n",
    "        \n",
    "        int gcd = greatestCommonDenominator(numerator, denominator);\n",
    "        p = numerator / gcd;\n",
    "        q = denominator / gcd;\n",
    "    }\n",
    "    \n",
    "    RobustRational(int numerator, int denominator) {\n",
    "        if (denominator == 0) throw new RuntimeException(\"Rational can't have zero in the deominator.\");\n",
    "        p = numerator;\n",
    "        q = denominator;\n",
    "        simplify();\n",
    "    }\n",
    "    public int getNumerator() { return p; }\n",
    "    public int getDenominator() { return q; }\n",
    "    \n",
    "    public RobustRational plus(RobustRational b) {\n",
    "        int n = b.getNumerator();\n",
    "        int m = b.getDenominator();\n",
    "        return new RobustRational(add(mul(m,p),mul(q,n)), mul(m,q));\n",
    "    }\n",
    "    \n",
    "    public RobustRational minus(RobustRational b) {\n",
    "        int n = b.getNumerator();\n",
    "        int m = b.getDenominator();\n",
    "        return new RobustRational(add(mul(m, p), -mul(q, n)), mul(m, q));\n",
    "    }\n",
    "\n",
    "    public RobustRational times(RobustRational b) {\n",
    "        int n = b.getNumerator();\n",
    "        int m = b.getDenominator();\n",
    "        return new RobustRational(mul(p, n), mul(q, m));\n",
    "    }\n",
    "\n",
    "    public RobustRational dividedBy(RobustRational b) {\n",
    "        int n = b.getNumerator();\n",
    "        int m = b.getDenominator();\n",
    "        if (n == 0) {\n",
    "            throw new ArithmeticException(\"Division by zero in Rational Calculation\");\n",
    "        }\n",
    "        return new RobustRational(mul(p, m), mul(q, n));\n",
    "    } \n",
    "\n",
    "    public boolean equals(Object x) {\n",
    "        if (this == x) return true;\n",
    "        if (x == null) return false;\n",
    "        if (this.getClass() != x.getClass()) return false;\n",
    "        RobustRational that = (RobustRational) x;\n",
    "        if (that.getNumerator() != this.getNumerator()) return false;\n",
    "        if (that.getDenominator() != this.getDenominator()) return false;\n",
    "        return true;\n",
    "    }\n",
    "    \n",
    "    public String toString() {\n",
    "        if (q != 1) return \"\" + p + \"/\" + q;\n",
    "        else return \"\" + p;\n",
    "    }\n",
    "}\n",
    "\n",
    "RobustRational a = new RobustRational(5, 2);\n",
    "RobustRational b = new RobustRational(7, 13);\n",
    "a.dividedBy(b);"
   ]
  },
  {
   "cell_type": "markdown",
   "id": "2d94451b-bf80-4233-9766-02501b47afef",
   "metadata": {},
   "source": [
    "**1.2.18** *Variance for accumulator.* Validate that the following code, which adds the methods `var()` and `stddev()` to `Accumulator`, computes both the mean and variance of the numbers presented as arguments to `addDataValue()`:\n",
    "\n",
    "```java\n",
    "public class Accumulator {\n",
    "    private double m;\n",
    "    private double s;\n",
    "    private int N;\n",
    "\n",
    "    public void addDataValue(double x) {\n",
    "        N++;\n",
    "        s = s + 1.0 * (N-1) / N * (x - m) * (x - m);\n",
    "        m = m + (x - m) / N;\n",
    "    }\n",
    "\n",
    "    public double mean() { return m; }\n",
    "    public double var() { return s/(N - 1); }\n",
    "    public double stddev() { return Math.sqrt(this.var()); }\n",
    "}\n",
    "```\n",
    "*This implementation is less susceptible to roundoff error than the straightforward implementation based on saving the sum of the squares of the numbers.*\n"
   ]
  },
  {
   "cell_type": "markdown",
   "id": "ee711ce0-3035-41bd-9933-05812e1a8933",
   "metadata": {},
   "source": [
    "**1.2.19** *Parsing.* Develop the parse constructors for your `Date` and `Transaction` implementations of Exercise 1.2.13 that take a single `String` argument to specify the initialization values, using the formats given in the table below.\n",
    "\n",
    "**Partial solution:**\n",
    "\n",
    "```java\n",
    "public Date(String date) {\n",
    "    String[] fields = date.split(\"/\");\n",
    "    month = Integer.parseInt(fields[0]);\n",
    "    day   = Integer.parseInt(fields[1]);\n",
    "    year  = Integer.parseInt(fields[2]);\n",
    "}\n",
    "```\n",
    "\n",
    "**Formats for parsing:**\n",
    "\n",
    "- *Date*: integers separated by slashes\n",
    "- *Transaction*: customer, date, and amount, separated by whitespace\n",
    "\n",
    "**Example:**\n",
    "\n",
    "- *Date*: `5/22/1939`\n",
    "- *Transaction*: `Turing 5/22/1939 11.99`\n"
   ]
  },
  {
   "cell_type": "code",
   "execution_count": null,
   "id": "22e6987e-decd-4527-ba8b-b6c758b9b1b6",
   "metadata": {},
   "outputs": [],
   "source": []
  },
  {
   "cell_type": "code",
   "execution_count": null,
   "id": "c576b87e-8d34-45b5-a4bf-86e4014dd61c",
   "metadata": {},
   "outputs": [],
   "source": []
  },
  {
   "cell_type": "code",
   "execution_count": null,
   "id": "b5351d42-0fbf-4d3a-a09b-bca01a170d0d",
   "metadata": {},
   "outputs": [],
   "source": []
  },
  {
   "cell_type": "code",
   "execution_count": null,
   "id": "77d9ba0a-abd9-4fa0-8b5a-99d522b4a7f0",
   "metadata": {},
   "outputs": [],
   "source": []
  },
  {
   "cell_type": "code",
   "execution_count": null,
   "id": "658a0095-5ec3-4714-ac87-5a74b15aded5",
   "metadata": {},
   "outputs": [],
   "source": []
  },
  {
   "cell_type": "code",
   "execution_count": null,
   "id": "09bcf599-9880-4662-902d-e9ed7600c4c7",
   "metadata": {},
   "outputs": [],
   "source": []
  },
  {
   "cell_type": "code",
   "execution_count": null,
   "id": "a1114ebf-9f59-41dd-9f7a-8c659c3aa348",
   "metadata": {},
   "outputs": [],
   "source": []
  },
  {
   "cell_type": "code",
   "execution_count": null,
   "id": "2b91c06b-118c-4228-bd0e-fecfa39ba647",
   "metadata": {},
   "outputs": [],
   "source": []
  },
  {
   "cell_type": "code",
   "execution_count": null,
   "id": "7b3fa82a-6d31-4984-80a9-b1bcce519297",
   "metadata": {},
   "outputs": [],
   "source": []
  },
  {
   "cell_type": "code",
   "execution_count": null,
   "id": "b3a37b72-04df-4b02-a025-04070998c8e7",
   "metadata": {},
   "outputs": [],
   "source": []
  },
  {
   "cell_type": "code",
   "execution_count": null,
   "id": "da01e25c-5cf1-4735-bd0c-8ffe476ca970",
   "metadata": {},
   "outputs": [],
   "source": []
  }
 ],
 "metadata": {
  "kernelspec": {
   "display_name": "Java",
   "language": "java",
   "name": "java"
  },
  "language_info": {
   "codemirror_mode": "java",
   "file_extension": ".jshell",
   "mimetype": "text/x-java-source",
   "name": "Java",
   "pygments_lexer": "java",
   "version": "11.0.18+10"
  }
 },
 "nbformat": 4,
 "nbformat_minor": 5
}
