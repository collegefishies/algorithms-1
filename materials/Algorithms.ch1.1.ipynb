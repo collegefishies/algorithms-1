{
 "cells": [
  {
   "cell_type": "markdown",
   "id": "88cee574-fd8e-4be4-950a-1b7be866ccc7",
   "metadata": {},
   "source": [
    "# Exercises"
   ]
  },
  {
   "cell_type": "markdown",
   "id": "e30448d8-b914-4e98-8f25-747d0718077c",
   "metadata": {},
   "source": [
    "**1.1.1** Give the value of each of the following expressions:\n",
    "\n",
    "*a.* `( 0 + 15 ) /2`\n",
    "\n",
    "*b.* `2.0e-6 * 100000000.1`\n",
    "\n",
    "*c.* `true && false || true && true`"
   ]
  },
  {
   "cell_type": "code",
   "execution_count": 5,
   "id": "52fa229c-3d22-4ad3-8565-48b5e9efc912",
   "metadata": {},
   "outputs": [
    {
     "name": "stdout",
     "output_type": "stream",
     "text": [
      "7\n",
      "200.0000002\n",
      "true\n"
     ]
    }
   ],
   "source": [
    "System.out.println( (0+15)/2);\n",
    "System.out.println(2.0e-6 * 100000000.1);\n",
    "System.out.println(true && false || true && true);"
   ]
  },
  {
   "cell_type": "markdown",
   "id": "448d1596-d5e0-4bd7-9fe4-9f798965b4ba",
   "metadata": {},
   "source": [
    "**1.1.2** Give the type and value of the following expressions."
   ]
  },
  {
   "cell_type": "code",
   "execution_count": 13,
   "id": "5085b1c2-b8ec-4d60-ab72-52f53df71348",
   "metadata": {},
   "outputs": [
    {
     "name": "stdout",
     "output_type": "stream",
     "text": [
      "1.618 Double\n",
      "10.0 Double\n",
      "true Boolean\n",
      "33 String\n"
     ]
    }
   ],
   "source": [
    "System.out.println( (1 + 2.236)/2 + \" Double\"); \n",
    "System.out.println( (1 + 2 + 3 + 4.0) + \" Double\"); \n",
    "System.out.println( (4.1 >= 4) + \" Boolean\"); \n",
    "System.out.println( 1 + 2 + \"3\" + \" String\");"
   ]
  },
  {
   "cell_type": "markdown",
   "id": "d64c475e-77ef-40c6-9014-dbf3e6a7dc61",
   "metadata": {},
   "source": [
    "**1.1.3** Write a program that takes three integer command-line arguments and prints equal if all three are equal, and not equal otherwise."
   ]
  },
  {
   "cell_type": "code",
   "execution_count": 21,
   "id": "f7fa3e10-bdd2-46c9-b3ad-830220d40d0f",
   "metadata": {},
   "outputs": [],
   "source": [
    "public class Exercise113 {\n",
    "    public static void main(String[] args) {\n",
    "        int[] integers = new int[3];\n",
    "\n",
    "        for (int i = 0; i < 3; i++) {\n",
    "            integers[i] = Integer.parseInt(args[i]);\n",
    "        }\n",
    "\n",
    "        System.out.println( integers[0] == integers[1] && integers[1] == integers[2] );\n",
    "    }\n",
    "}"
   ]
  },
  {
   "cell_type": "markdown",
   "id": "93342375-ef7e-4435-bdba-baf540ca6487",
   "metadata": {},
   "source": [
    "**1.1.4** What (if anything) is wrong with each of the following statements?\n",
    "\n",
    "*a.* `if (a > b) then c = 0;`  \n",
    "*b.* `if a > b { c = 0; }`  \n",
    "*c.* `if (a > b) c = 0;`  \n",
    "*d.* `if (a > b) c = 0 else b = 0;`"
   ]
  },
  {
   "cell_type": "code",
   "execution_count": 35,
   "id": "a4aefb18-ea85-4418-8bc6-d52a9af9b30b",
   "metadata": {},
   "outputs": [
    {
     "name": "stdout",
     "output_type": "stream",
     "text": [
      "a. then is not valid syntax\n",
      "b. parentheses on the boolean are missing\n",
      "c. Valid\n",
      "d. Semi-colon missing on c = 0\n"
     ]
    }
   ],
   "source": [
    "System.out.println(\"a. then is not valid syntax\");\n",
    "System.out.println(\"b. parentheses on the boolean are missing\");\n",
    "System.out.println(\"c. Valid\");\n",
    "System.out.println(\"d. Semi-colon missing on c = 0\");"
   ]
  },
  {
   "cell_type": "markdown",
   "id": "c2c2f3c8-0afd-4f72-bc39-903916812335",
   "metadata": {},
   "source": [
    "**1.1.5** Write a code fragment that prints true if the double variables x and y are both strictly between 0 and 1 and false otherwise.\n",
    "\n",
    "```java\n",
    "if (x > 0 && x < 1 && y > 0 && y < 1) {\n",
    "    System.out.println(true);\n",
    "} else {\n",
    "    System.out.println(false);\n",
    "}\n",
    "```"
   ]
  },
  {
   "cell_type": "markdown",
   "id": "ad813d36-2c1d-4e4c-8c90-d10f141ffb14",
   "metadata": {},
   "source": [
    "**1.1.6** What does the following program print?\n",
    "\n",
    "```java\n",
    "int f = 0;\n",
    "int g = 1;\n",
    "for (int i = 0; i <= 15; i++) {\n",
    "    StdOut.println(f);\n",
    "    f = f + g;\n",
    "    g = f - g;\n",
    "}\n",
    "```\n",
    "\n",
    "This program prints the first 16 numbers of the Fibonacci sequence. Each number is the sum of the two preceding ones, starting from 0 and 1."
   ]
  },
  {
   "cell_type": "markdown",
   "id": "e233c0de-d9a2-4f3b-b516-c3462b0a59ac",
   "metadata": {},
   "source": [
    "**1.1.7** Give the value printed by each of the following code fragments:\n",
    "\n",
    "*a.* \n",
    "```java\n",
    "double t = 9.0;\n",
    "while (Math.abs(t - 9.0/t) > .001)\n",
    "    t = (9.0/t + t) / 2.0;\n",
    "StdOut.printf(\"%.5f\\n\", t);\n",
    "```\n",
    "This fragment calculates the square root of 9 using the Newton-Raphson method and prints the result to 5 decimal places. \n",
    "\n",
    "*b.* \n",
    "```java\n",
    "int sum = 0;\n",
    "for (int i = 1; i < 1000; i++)\n",
    "    for (int j = 0; j < i; j++)\n",
    "        sum++;\n",
    "StdOut.println(sum);\n",
    "```\n",
    "This fragment calculates the sum of numbers from 1 to 999. It is equivalent to the sum of the first 999 natural numbers, which is \\( \\frac{999 \\times 1000}{2} \\).\n",
    "\n",
    "*c.* \n",
    "```java\n",
    "int sum = 0;\n",
    "for (int i = 1; i < 1000; i *= 2)\n",
    "    for (int j = 0; j < N; j++)\n",
    "        sum++;\n",
    "StdOut.println(sum);\n",
    "```\n",
    "In this fragment, the value of `N` is not defined. Assuming `N` meant to be `i`, it would print 1023 = 2^10 - 1."
   ]
  },
  {
   "cell_type": "markdown",
   "id": "26c89e4a-148e-4858-b8b5-180431db61fa",
   "metadata": {},
   "source": [
    "**1.1.8** What do each of the following print?\n",
    "\n",
    "*a.* \n",
    "```java\n",
    "System.out.println('b');\n",
    "```\n",
    "This prints the character `b`.\n",
    "\n",
    "*b.* \n",
    "```java\n",
    "System.out.println('b' + 'c');\n",
    "```\n",
    "This prints the integer result of the addition of the Unicode/ASCII values of `b` and `c`. In ASCII, `b` is 98 and `c` is 99, so this prints `197`.\n",
    "\n",
    "*c.* \n",
    "```java\n",
    "System.out.println((char) ('a' + 4));\n",
    "```\n",
    "This adds 4 to the ASCII value of `a` (which is 97), resulting in 101, and then casts it back to a character, which is `e`. Hence, it prints `e`.\n",
    "\n",
    "**Explanation:**\n",
    "\n",
    "- In *a*, the character `b` is printed directly.\n",
    "- In *b*, character values are implicitly converted to their ASCII values for the addition operation, resulting in an integer.\n",
    "- In *c*, the character `a` is first converted to its ASCII value, added to 4, and then cast back to a char, resulting in `e`."
   ]
  },
  {
   "cell_type": "markdown",
   "id": "825d539e-5bb0-486a-b603-5d5bc9f40ee9",
   "metadata": {},
   "source": [
    "**1.1.9** Write a code fragment that puts the binary representation of a positive integer N into a String s.\n",
    "\n",
    "Solution:\n",
    "```java\n",
    "String s = \"\";\n",
    "for (int n = N; n > 0; n /= 2)\n",
    "    s = (n % 2) + s;\n",
    "```\n",
    "\n",
    "This code fragment constructs the binary representation of a positive integer `N` by repeatedly dividing the number by 2 and concatenating the remainder (which will be either 0 or 1) to the left side of the string `s`. The loop continues until `n` becomes 0. The binary digits are accumulated in reverse order, starting from the least significant bit, which is why the remainder is added to the front of the string `s`."
   ]
  },
  {
   "cell_type": "markdown",
   "id": "1be18364-c246-41af-9b12-ad50b7c570f5",
   "metadata": {},
   "source": [
    "**1.1.10** What is wrong with the following code fragment?\n",
    "\n",
    "```java\n",
    "int[] a;\n",
    "for (int i = 0; i < 10; i++)\n",
    "    a[i] = i * i;\n",
    "```\n",
    "\n",
    "Solution: The array `a` is declared but not initialized. Java requires that arrays be initialized with a specific size before they can be used. This code results in a \"variable `a` might not have been initialized\" compile-time error. To fix it, `a` should be initialized, like so:\n",
    "\n",
    "```java\n",
    "int[] a = new int[10];\n",
    "for (int i = 0; i < 10; i++)\n",
    "    a[i] = i * i;\n",
    "```"
   ]
  },
  {
   "cell_type": "markdown",
   "id": "80f671ca-0d10-4bd9-85e7-1f286be0649b",
   "metadata": {},
   "source": [
    "**1.1.11** Write a code fragment that prints the contents of a two-dimensional boolean array, using * to represent true and a space to represent false. Include row and column numbers."
   ]
  },
  {
   "cell_type": "code",
   "execution_count": 68,
   "id": "9376cdd5-8235-40b8-a635-2de527634365",
   "metadata": {},
   "outputs": [
    {
     "name": "stdout",
     "output_type": "stream",
     "text": [
      "   1 2 3\n",
      " 1 *   *\n",
      " 2   *  \n"
     ]
    }
   ],
   "source": [
    "boolean[][] array = { { true, false, true }, { false, true, false } };\n",
    "\n",
    "int cellWidth = (int) Math.log10(Math.max(array.length, array[0].length)) + 2;\n",
    "String[] lines = new String[array.length + 1];\n",
    "\n",
    "String string = \"%\" + cellWidth + \"s\";\n",
    "String number = \"%\" + cellWidth + \"d\";\n",
    "for (int i = 0; i < array.length + 1; i++) {\n",
    "    if (i == 0) lines[i] = String.format(string, \"\");\n",
    "    else lines[i] = String.format(number, i);\n",
    "    for (int j = 0; j < array[0].length; j++) {\n",
    "        if (i == 0) lines[i] += String.format(number, j+1);\n",
    "        else lines[i] += String.format(string, (array[i-1][j]) ? \"*\": \"\");\n",
    "    }\n",
    "    \n",
    "}\n",
    "\n",
    "for (int i = 0; i < array.length + 1; i++)\n",
    "    System.out.println(lines[i]);\n"
   ]
  },
  {
   "cell_type": "code",
   "execution_count": 74,
   "id": "cb3a9c70-4888-4eac-a52f-62a1c1e0af89",
   "metadata": {},
   "outputs": [
    {
     "name": "stdout",
     "output_type": "stream",
     "text": [
      "   1 2 3\n",
      " 1 *   *\n",
      " 2   *  \n"
     ]
    }
   ],
   "source": [
    "// Refactored.\n",
    "\n",
    "public class BooleanArrayGrid {\n",
    "    public static void main() {\n",
    "        boolean[][] array = { { true, false, true }, { false, true, false } };\n",
    "        printBooleanArrayGrid(array);\n",
    "    }\n",
    "\n",
    "    private static void printBooleanArrayGrid(boolean[][] array) {\n",
    "        int cellWidth = calculateCellWidth(array);\n",
    "        String[] lines = initializeLines(array, cellWidth);\n",
    "        fillGrid(array, lines, cellWidth);\n",
    "\n",
    "        for (String line : lines) {\n",
    "            System.out.println(line);\n",
    "        }\n",
    "    }\n",
    "\n",
    "    private static int calculateCellWidth(boolean[][] array) {\n",
    "        return (int) Math.log10(Math.max(array.length, array[0].length)) + 2;\n",
    "    }\n",
    "\n",
    "    private static String[] initializeLines(boolean[][] array, int cellWidth) {\n",
    "        String[] lines = new String[array.length + 1];\n",
    "        StringBuilder header = new StringBuilder(String.format(\"%\" + cellWidth + \"s\", \"\"));\n",
    "\n",
    "        for (int j = 0; j < array[0].length; j++) {\n",
    "            header.append(String.format(\"%\" + cellWidth + \"d\", j + 1));\n",
    "        }\n",
    "        lines[0] = header.toString();\n",
    "\n",
    "        return lines;\n",
    "    }\n",
    "\n",
    "    private static void fillGrid(boolean[][] array, String[] lines, int cellWidth) {\n",
    "        for (int i = 0; i < array.length; i++) {\n",
    "            StringBuilder line = new StringBuilder(String.format(\"%\" + cellWidth + \"d\", i + 1));\n",
    "            for (int j = 0; j < array[i].length; j++) {\n",
    "                line.append(String.format(\"%\" + cellWidth + \"s\", array[i][j] ? \"*\" : \"\"));\n",
    "            }\n",
    "            lines[i + 1] = line.toString();\n",
    "        }\n",
    "    }\n",
    "}\n",
    "\n",
    "BooleanArrayGrid.main();"
   ]
  },
  {
   "cell_type": "markdown",
   "id": "3f01fe95-423b-4fbf-bd52-edbeeb2c626b",
   "metadata": {},
   "source": [
    "**1.1.12** What does the following code fragment print?\n",
    "\n",
    "```java\n",
    "int[] a = new int[10];\n",
    "for (int i = 0; i < 10; i++)\n",
    "   a[i] = 9 - i;\n",
    "for (int i = 0; i < 10; i++)\n",
    "   a[i] = a[a[i]];\n",
    "for (int i = 0; i < 10; i++)\n",
    "   System.out.println(i);\n",
    "```\n",
    "\n",
    "This kind of code is best ran rather than interpreted, because once we refactor it, we would not make it this complicated."
   ]
  },
  {
   "cell_type": "code",
   "execution_count": 77,
   "id": "d7382522-c80e-4ce1-961b-1c29ee91e6cf",
   "metadata": {},
   "outputs": [
    {
     "name": "stdout",
     "output_type": "stream",
     "text": [
      "0\n",
      "1\n",
      "2\n",
      "3\n",
      "4\n",
      "5\n",
      "6\n",
      "7\n",
      "8\n",
      "9\n"
     ]
    }
   ],
   "source": [
    "int[] a = new int[10];\n",
    "for (int i = 0; i < 10; i++)\n",
    "   a[i] = 9 - i;\n",
    "for (int i = 0; i < 10; i++)\n",
    "   a[i] = a[a[i]];\n",
    "for (int i = 0; i < 10; i++)\n",
    "   System.out.println(i);"
   ]
  },
  {
   "cell_type": "markdown",
   "id": "77d31a21-28ef-400e-8112-ce2f43672f2f",
   "metadata": {},
   "source": [
    "**1.1.13** Write a code fragment to print the transposition (rows and columns changed) of a two-dimensional array with M rows and N columns.\n"
   ]
  },
  {
   "cell_type": "code",
   "execution_count": 84,
   "id": "51f07650-0cbf-4c95-afc7-8f729828e569",
   "metadata": {},
   "outputs": [
    {
     "name": "stdout",
     "output_type": "stream",
     "text": [
      "  0  2\n",
      "  1  3\n"
     ]
    }
   ],
   "source": [
    "int[][] array = {{0,1},{2,3}}; int m = array.length; int n = array[0].length;\n",
    "int cellWidth = 3;\n",
    "for (int i = 0; i < m; i++) {\n",
    "    for (int j = 0; j < n; j++) {\n",
    "        System.out.printf(\"%\" + cellWidth + \"s\", array[j][i]);\n",
    "    }\n",
    "    System.out.println();\n",
    "}"
   ]
  },
  {
   "cell_type": "markdown",
   "id": "a82a5f89-4c83-4d96-8bca-7c9b84ba577b",
   "metadata": {},
   "source": [
    "**1.1.14** Write a static method `lg()` that takes an `int` value `N` as argument and returns the largest `int` not larger than the base-2 logarithm of `N`. Do not use `Math`.\n"
   ]
  },
  {
   "cell_type": "code",
   "execution_count": 99,
   "id": "136e2aac-7b2c-4a02-b04b-22bf4b470a9f",
   "metadata": {},
   "outputs": [],
   "source": [
    "static int lg(int N) {\n",
    "    int count = 0;\n",
    "    for(int i = N; i > 0; count++)\n",
    "        i /= 2;\n",
    "    return count - 1;\n",
    "}\n",
    "\n",
    "for (int i = 1; i < 100; i++){\n",
    "    if(lg(i) != (int) (Math.log(i)/ Math.log(2))) System.out.println(\"Incorrect\");\n",
    "}"
   ]
  },
  {
   "cell_type": "markdown",
   "id": "0f29958e-c247-46fe-8860-24ede5e9c261",
   "metadata": {},
   "source": [
    "**1.1.15** Write a static method `histogram()` that takes an array `a[]` of `int` values and an integer `M` as arguments and returns an array of length `M` whose `i`th entry is the number of times the integer `i` appeared in the argument array. If the values in `a[]` are all between `0` and `M–1`, the sum of the values in the returned array should be equal to `a.length`.\n"
   ]
  },
  {
   "cell_type": "code",
   "execution_count": 106,
   "id": "91de97f3-e89b-477c-8529-2040d5201518",
   "metadata": {},
   "outputs": [],
   "source": [
    "public static int[] histogram(int[] a, int M) {\n",
    "    int[] histo = new int[M];\n",
    "    for (int i = 0; i < a.length; i++) {\n",
    "        int x = a[i];\n",
    "        if (x > 0 && x < M) histo[x]++;\n",
    "    }\n",
    "    return histo;\n",
    "}"
   ]
  },
  {
   "cell_type": "markdown",
   "id": "4943a501-0231-4ade-8ac0-49cc3e43a868",
   "metadata": {},
   "source": [
    "**1.1.16** Give the value of `exR1(6)`:\n",
    "\n",
    "```java\n",
    "public static String exR1(int n)\n",
    "{\n",
    "   if (n <= 0) return \"\";\n",
    "   return exR1(n-3) + n + exR1(n-2) + n;\n",
    "}\n",
    "```\n",
    "\n",
    "```\n",
    "f(6) = f(3) + 6 + f(4) + 6;\n",
    "f(6) = (\"\" + 3 + f(1) + 3) + 6 + (f(1) + 4 + f(2) + 4) + 6;\n",
    "f(6) = (\"\" + 3 + (\"\" + 1 + \"\" + 1) + 3) + 6 + ((\"\" + 1 + \"\" + 1) + 4 + (\"\" + 2 + \"\" + 2) + 4) + 6;\n",
    "f(6) = (\"\" + 3 + \"11\" + 3) + 6 + (\"11\" + 4 + \"22\" + 4) + 6;\n",
    "f(6) = \"311361142246\";\n",
    "```"
   ]
  },
  {
   "cell_type": "code",
   "execution_count": 109,
   "id": "83a097a1-3a22-4ed4-a568-79c478c29a18",
   "metadata": {},
   "outputs": [
    {
     "data": {
      "text/plain": [
       "311361142246"
      ]
     },
     "execution_count": 109,
     "metadata": {},
     "output_type": "execute_result"
    }
   ],
   "source": [
    "public static String exR1(int n)\n",
    "{\n",
    "   if (n <= 0) return \"\";\n",
    "   return exR1(n-3) + n + exR1(n-2) + n;\n",
    "}\n",
    "exR1(6);"
   ]
  },
  {
   "cell_type": "markdown",
   "id": "be1b7ac1-a97c-46fd-abb5-b378cda89858",
   "metadata": {},
   "source": [
    "**1.1.17** Criticize the following recursive function:\n",
    "\n",
    "```java\n",
    "public static String exR2(int n)\n",
    "{\n",
    "   String s = exR2(n-3) + n + exR2(n-2) + n;\n",
    "   if (n <= 0) return \"\";\n",
    "   return s;\n",
    "}\n",
    "```\n",
    "\n",
    "The base case occurs after the recursive call ensuring that the base case is never reached."
   ]
  },
  {
   "cell_type": "markdown",
   "id": "d46d7326-908d-42eb-a303-7d0a837dd5df",
   "metadata": {},
   "source": [
    "**1.1.18** Consider the following recursive function:\n",
    "\n",
    "```java\n",
    "public static int mystery(int a, int b)\n",
    "{\n",
    "   if (b == 0)     return 0;\n",
    "   if (b % 2 == 0) return mystery(a+a, b/2);\n",
    "   return mystery(a+a, b/2) + a;\n",
    "}\n",
    "```\n",
    "\n",
    "What are the values of `mystery(2, 25)` and `mystery(3, 11)`? Given positive integers `a` and `b`, describe what value `mystery(a, b)` computes. Answer the same question, but replace `+` with `*` and replace `return 0` with `return 1`.\n"
   ]
  },
  {
   "cell_type": "code",
   "execution_count": 111,
   "id": "d9149215-b199-464d-bf87-f693d51acc8d",
   "metadata": {},
   "outputs": [],
   "source": [
    "public static int mystery(int a, int b)\n",
    "{\n",
    "   if (b == 0)     return 0;\n",
    "   if (b % 2 == 0) return mystery(a+a, b/2);\n",
    "   return mystery(a+a, b/2) + a;\n",
    "}"
   ]
  },
  {
   "cell_type": "code",
   "execution_count": 112,
   "id": "aaf0c9bf-1a1e-45f2-bd57-ca0b486553e0",
   "metadata": {},
   "outputs": [
    {
     "data": {
      "text/plain": [
       "50"
      ]
     },
     "execution_count": 112,
     "metadata": {},
     "output_type": "execute_result"
    }
   ],
   "source": [
    "mystery(2, 25);"
   ]
  },
  {
   "cell_type": "code",
   "execution_count": 113,
   "id": "67d52025-e3d1-40ca-ade4-b17ef9e1f7fc",
   "metadata": {},
   "outputs": [
    {
     "data": {
      "text/plain": [
       "33"
      ]
     },
     "execution_count": 113,
     "metadata": {},
     "output_type": "execute_result"
    }
   ],
   "source": [
    "mystery(3, 11);"
   ]
  },
  {
   "cell_type": "code",
   "execution_count": 114,
   "id": "90c1cac4-ff38-4547-9dcb-7cbbd39afc1c",
   "metadata": {},
   "outputs": [
    {
     "data": {
      "text/plain": [
       "144"
      ]
     },
     "execution_count": 114,
     "metadata": {},
     "output_type": "execute_result"
    }
   ],
   "source": [
    "mystery(12, 12);"
   ]
  },
  {
   "cell_type": "markdown",
   "id": "9874bdc1-8b93-407b-be91-0b672ef3a610",
   "metadata": {},
   "source": [
    "It looks like `mystery` is just multiplication."
   ]
  },
  {
   "cell_type": "code",
   "execution_count": 115,
   "id": "c78da9e1-fa52-467d-8a9e-1dbdcd2f1f87",
   "metadata": {},
   "outputs": [],
   "source": [
    "public static int mystery(int a, int b)\n",
    "{\n",
    "   if (b == 0)     return 1;\n",
    "   if (b % 2 == 0) return mystery(a*a, b/2);\n",
    "   return mystery(a*a, b/2) * a;\n",
    "}"
   ]
  },
  {
   "cell_type": "code",
   "execution_count": 116,
   "id": "5533bc30-e988-4785-b670-0fe41d34367b",
   "metadata": {},
   "outputs": [
    {
     "data": {
      "text/plain": [
       "16"
      ]
     },
     "execution_count": 116,
     "metadata": {},
     "output_type": "execute_result"
    }
   ],
   "source": [
    "mystery(2,4);"
   ]
  },
  {
   "cell_type": "code",
   "execution_count": 117,
   "id": "4c408d47-82f1-41b0-a41f-84f15f61b35f",
   "metadata": {},
   "outputs": [
    {
     "data": {
      "text/plain": [
       "1024"
      ]
     },
     "execution_count": 117,
     "metadata": {},
     "output_type": "execute_result"
    }
   ],
   "source": [
    "mystery(2,10);"
   ]
  },
  {
   "cell_type": "markdown",
   "id": "1b8fb51b-80b5-4c64-8f69-7fd762708ed3",
   "metadata": {},
   "source": [
    "It looks like this `mystery` is just `pow`."
   ]
  },
  {
   "cell_type": "markdown",
   "id": "94ee8758-dbed-4452-ac1c-c669a03544a6",
   "metadata": {},
   "source": [
    "**1.1.19** Run the following program on your computer:\n",
    "\n",
    "```java\n",
    "public class Fibonacci\n",
    "{\n",
    "   public static long F(int N)\n",
    "   {\n",
    "      if (N == 0) return 0;\n",
    "      if (N == 1) return 1;\n",
    "      return F(N-1) + F(N-2);\n",
    "   }\n",
    "\n",
    "   public static void main(String[] args)\n",
    "   {\n",
    "      for (int N = 0; N < 100; N++)\n",
    "         StdOut.println(N + \" \" + F(N));\n",
    "   }\n",
    "}\n",
    "```\n",
    "\n",
    "What is the largest value of `N` for which this program takes less 1 hour to compute the value of `F(N)`? Develop a better implementation of `F(N)` that saves computed values in an array.\n"
   ]
  },
  {
   "cell_type": "markdown",
   "id": "9724baa0-6e2b-4b9e-87d3-4e5e65afa57e",
   "metadata": {},
   "source": [
    "This code is exponentially inefficient so no thanks."
   ]
  },
  {
   "cell_type": "code",
   "execution_count": 122,
   "id": "3e761fb9-bfb4-4a9d-9ccc-edb62556d6a9",
   "metadata": {
    "scrolled": true
   },
   "outputs": [
    {
     "name": "stdout",
     "output_type": "stream",
     "text": [
      "0 0\n",
      "1 1\n",
      "2 1\n",
      "3 2\n",
      "4 3\n",
      "5 5\n",
      "6 8\n",
      "7 13\n",
      "8 21\n",
      "9 34\n",
      "10 55\n",
      "11 89\n",
      "12 144\n",
      "13 233\n",
      "14 377\n",
      "15 610\n",
      "16 987\n",
      "17 1597\n",
      "18 2584\n",
      "19 4181\n",
      "20 6765\n",
      "21 10946\n",
      "22 17711\n",
      "23 28657\n",
      "24 46368\n",
      "25 75025\n",
      "26 121393\n",
      "27 196418\n",
      "28 317811\n",
      "29 514229\n",
      "30 832040\n",
      "31 1346269\n",
      "32 2178309\n",
      "33 3524578\n",
      "34 5702887\n",
      "35 9227465\n",
      "36 14930352\n",
      "37 24157817\n",
      "38 39088169\n",
      "39 63245986\n",
      "40 102334155\n",
      "41 165580141\n",
      "42 267914296\n",
      "43 433494437\n",
      "44 701408733\n",
      "45 1134903170\n",
      "46 1836311903\n",
      "47 2971215073\n",
      "48 4807526976\n",
      "49 7778742049\n",
      "50 12586269025\n",
      "51 20365011074\n",
      "52 32951280099\n",
      "53 53316291173\n",
      "54 86267571272\n",
      "55 139583862445\n",
      "56 225851433717\n",
      "57 365435296162\n",
      "58 591286729879\n",
      "59 956722026041\n",
      "60 1548008755920\n",
      "61 2504730781961\n",
      "62 4052739537881\n",
      "63 6557470319842\n",
      "64 10610209857723\n",
      "65 17167680177565\n",
      "66 27777890035288\n",
      "67 44945570212853\n",
      "68 72723460248141\n",
      "69 117669030460994\n",
      "70 190392490709135\n",
      "71 308061521170129\n",
      "72 498454011879264\n",
      "73 806515533049393\n",
      "74 1304969544928657\n",
      "75 2111485077978050\n",
      "76 3416454622906707\n",
      "77 5527939700884757\n",
      "78 8944394323791464\n",
      "79 14472334024676221\n",
      "80 23416728348467685\n",
      "81 37889062373143906\n",
      "82 61305790721611591\n",
      "83 99194853094755497\n",
      "84 160500643816367088\n",
      "85 259695496911122585\n",
      "86 420196140727489673\n",
      "87 679891637638612258\n",
      "88 1100087778366101931\n",
      "89 1779979416004714189\n",
      "90 2880067194370816120\n",
      "91 4660046610375530309\n",
      "92 7540113804746346429\n",
      "93 -6246583658587674878\n",
      "94 1293530146158671551\n",
      "95 -4953053512429003327\n",
      "96 -3659523366270331776\n",
      "97 -8612576878699335103\n",
      "98 6174643828739884737\n",
      "99 -2437933049959450366\n"
     ]
    }
   ],
   "source": [
    "public class Fibonacci\n",
    "{\n",
    "   public static long[] memo = new long[1000];\n",
    "   public static long F(int N)\n",
    "   {\n",
    "      if (N == 0) return (long) 0;\n",
    "      if (N == 1) return (long) 1;\n",
    "      if (memo[N] != 0) return memo[N];\n",
    "      else memo[N] = F(N-1) + F(N-2);\n",
    "      return memo[N];\n",
    "   }\n",
    "\n",
    "   public static void main()\n",
    "   {\n",
    "      for (int N = 0; N < 100; N++)\n",
    "         System.out.println(N + \" \" + F(N));\n",
    "   }\n",
    "}\n",
    "\n",
    "Fibonacci.main();"
   ]
  },
  {
   "cell_type": "markdown",
   "id": "ad70caf8-625a-4a83-abe5-27857e24b2e3",
   "metadata": {},
   "source": [
    "**1.1.20** Write a recursive static method that computes the value of ln(N!):"
   ]
  },
  {
   "cell_type": "code",
   "execution_count": 128,
   "id": "8e9c55bb-b072-4d90-9f42-4a52e5940c69",
   "metadata": {},
   "outputs": [
    {
     "data": {
      "text/plain": [
       "5912.128178488171"
      ]
     },
     "execution_count": 128,
     "metadata": {},
     "output_type": "execute_result"
    }
   ],
   "source": [
    "static double recursiveLnFactorial(int N) {\n",
    "    if (N == 0) return 0;\n",
    "    return Math.log(N) + recursiveLnFactorial(N-1);\n",
    "}\n",
    "\n",
    "recursiveLnFactorial(1000);"
   ]
  },
  {
   "cell_type": "markdown",
   "id": "dfbe962a-159a-4fda-a209-4f9209640917",
   "metadata": {},
   "source": [
    "# Creative Problems"
   ]
  },
  {
   "cell_type": "markdown",
   "id": "f3f1fd48-28a7-44cf-ad5d-510478993625",
   "metadata": {},
   "source": [
    "**1.1.26** Sorting three numbers. Suppose that the variables `a`, `b`, `c`, and `t` are all of the same numeric primitive type. Show that the following code puts `a`, `b`, and `c` in ascending order:\n",
    "\n",
    "```java\n",
    "if (a > b) { t = a; a = b; b = t; }\n",
    "if (a > c) { t = a; a = c; c = t; }\n",
    "if (b > c) { t = b; b = c; c = t; }\n",
    "```"
   ]
  },
  {
   "cell_type": "markdown",
   "id": "f38539d2-8008-4d86-9aed-b96f59d05add",
   "metadata": {},
   "source": [
    "Let `a,b,c` be arbitrary real numbers. Note that the arguments are just swaps if java could access primitive variables by reference.\n",
    "\n",
    "```java\n",
    "swap(int a, int b) {\n",
    "    int t = a;\n",
    "    a = b;\n",
    "    b = t;\n",
    "}\n",
    "```\n",
    "\n",
    "If (a > b) then afterwards (b >= a) otherwise (b >= a) initially.\n",
    "If (a > c) then afterwares (c >= a) ...\n",
    "If (b > c) then afterwares (c >= b) ...\n",
    "\n",
    "Therefore, c >= b >= a. QED.\n"
   ]
  },
  {
   "cell_type": "markdown",
   "id": "7a56daea-12db-4f95-aa54-1c6a7acf758f",
   "metadata": {},
   "source": [
    "**1.1.27** Binomial distribution. Estimate the number of recursive calls that would be used by the code\n",
    "\n",
    "```java\n",
    "public static double binomial(int N, int k, double p)\n",
    "{\n",
    "   if ((N == 0) || (k < 0)) return 1.0;\n",
    "   return (1.0 - p) * binomial(N-1, k) + p * binomial(N-1, k-1);\n",
    "}\n",
    "```\n",
    "\n",
    "to compute `binomial(100, 50)`. Develop a better implementation that is based on saving computed values in an array.\n"
   ]
  },
  {
   "cell_type": "markdown",
   "id": "124ce94b-5af6-43df-b5d1-7b6392ccacae",
   "metadata": {},
   "source": [
    "Since every call leads to two more calls, we should the calls to grow exponentially. Probably on the order of `2^N` if `N = k` or `N` if `k=1`. Let us use the worst case."
   ]
  },
  {
   "cell_type": "code",
   "execution_count": 159,
   "id": "8b28836f-7aab-4917-bfc4-3a9cb74526d6",
   "metadata": {},
   "outputs": [
    {
     "name": "stdout",
     "output_type": "stream",
     "text": [
      "9.34412316474981E-13\n"
     ]
    }
   ],
   "source": [
    "public class Binomial {\n",
    "    private static int maxN = 200;\n",
    "    private static long[][] memo = new long[maxN][maxN];\n",
    "    private static boolean[][] calculated = new boolean[maxN][maxN];\n",
    "\n",
    "    private static long coefficient(int N, int k) {\n",
    "        if ( ! (N >= 0 && N < maxN && k >= 0 && k <= N) ) {\n",
    "            return 0;\n",
    "        }\n",
    "        \n",
    "        if (calculated[N][k]) return memo[N][k];\n",
    "\n",
    "        if (k == 0 || k == N) {\n",
    "            memo[N][k] = 1;\n",
    "        } else {\n",
    "            memo[N][k] = coefficient(N-1, k-1) + coefficient(N-1, k);\n",
    "        }\n",
    "        calculated[N][k] = true;\n",
    "        return memo[N][k];\n",
    "    }\n",
    "\n",
    "    public static double binomial(int N, int k, double p) {\n",
    "        if ((N == 0) && k == 0) return 1.0;\n",
    "        if (N < 0 || k < 0 || k > N) return 0.0;\n",
    "        return coefficient(N, k) * Math.pow(p, k) * Math.pow(1-p, N-k);\n",
    "    }\n",
    "\n",
    "    public static void main() {\n",
    "        System.out.println(Binomial.binomial(100, 50, 0.5));\n",
    "    }\n",
    "}\n",
    "\n",
    "Binomial.main()"
   ]
  },
  {
   "cell_type": "code",
   "execution_count": null,
   "id": "647a186f-38cb-4f78-8b9a-2ecf52a39bd8",
   "metadata": {},
   "outputs": [],
   "source": []
  }
 ],
 "metadata": {
  "kernelspec": {
   "display_name": "Java",
   "language": "java",
   "name": "java"
  },
  "language_info": {
   "codemirror_mode": "java",
   "file_extension": ".jshell",
   "mimetype": "text/x-java-source",
   "name": "Java",
   "pygments_lexer": "java",
   "version": "11.0.18+10"
  }
 },
 "nbformat": 4,
 "nbformat_minor": 5
}
