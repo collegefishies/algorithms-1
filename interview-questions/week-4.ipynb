{
 "cells": [
  {
   "cell_type": "markdown",
   "id": "b6b1d1fa-6ec3-4cb3-b095-42aa3e3702e9",
   "metadata": {},
   "source": [
    "**Dynamic median.** Design a data type that supports insert in logarithmic time, find-the-median in constant time, and remove-the-median in logarithmic time. If the number of keys in the data type is even, find/remove the lower median."
   ]
  },
  {
   "cell_type": "code",
   "execution_count": 2,
   "id": "e2efed79-5395-46b8-842f-1926a0d65d11",
   "metadata": {},
   "outputs": [],
   "source": [
    "%jars ../src/algs4.jar\n",
    "import edu.princeton.cs.algs4.MinPQ;\n",
    "import edu.princeton.cs.algs4.MaxPQ;"
   ]
  },
  {
   "cell_type": "code",
   "execution_count": 7,
   "id": "0fc23190-49a4-4849-a2e9-b666608459df",
   "metadata": {},
   "outputs": [],
   "source": [
    "class DynamicMedian<T extends Comparable<T>> {\n",
    "    private MinPQ<T> big = new MinPQ<>();\n",
    "    private MaxPQ<T> small = new MaxPQ<>();\n",
    "\n",
    "    // API\n",
    "    public void insert(T x) {\n",
    "        // insert first element.\n",
    "        if (small.size() == 0 && big.size() == 0)\n",
    "            small.insert(x);\n",
    "\n",
    "        // insert according to boundaries if they exist\n",
    "        if (big.size() != 0 && x.compareTo(big.min()) < 0)\n",
    "            small.insert(x);\n",
    "        else \n",
    "            big.insert(x);\n",
    "\n",
    "        // ensure the two heaps are within size diff == 1.\n",
    "        if (Math.abs(big.size() - small.size()) > 1) {\n",
    "            if (big.size() > small.size()) {\n",
    "                small.insert(big.min());\n",
    "                big.delMin();\n",
    "            } else {\n",
    "                big.insert(small.max());\n",
    "                small.delMax();\n",
    "            }\n",
    "        }\n",
    "    }\n",
    "    \n",
    "    public T median() {\n",
    "        if (big.size() > small.size())\n",
    "            return big.min();\n",
    "        else\n",
    "            return small.max();\n",
    "    }\n",
    "    \n",
    "    public void removeMedian() {\n",
    "        if (big.size() > small.size())\n",
    "            big.delMin();\n",
    "        else \n",
    "            small.delMax();\n",
    "    }\n",
    "    \n",
    "    // private methods\n",
    "\n",
    "    // test\n",
    "    public static void main(String[] args) {\n",
    "        int[] a = {1,5,6,1,89,9,1,3,5,7,9};\n",
    "        DynamicMedian<Integer> med = new DynamicMedian<>();\n",
    "        for (Integer x : a) {\n",
    "            med.insert(x);\n",
    "            System.out.println(\"Median is \" + med.median());\n",
    "        }\n",
    "    }\n",
    "}"
   ]
  },
  {
   "cell_type": "code",
   "execution_count": 8,
   "id": "063b7846-639b-47c0-b42e-f58b81cd8357",
   "metadata": {},
   "outputs": [
    {
     "name": "stdout",
     "output_type": "stream",
     "text": [
      "Median is 1\n",
      "Median is 1\n",
      "Median is 1\n",
      "Median is 1\n",
      "Median is 1\n",
      "Median is 5\n",
      "Median is 1\n",
      "Median is 3\n",
      "Median is 3\n",
      "Median is 5\n",
      "Median is 5\n"
     ]
    }
   ],
   "source": [
    "DynamicMedian.main(null);"
   ]
  },
  {
   "cell_type": "code",
   "execution_count": null,
   "id": "fdaaf264-5d76-4a64-bbe4-36a7f6ca056c",
   "metadata": {},
   "outputs": [],
   "source": []
  }
 ],
 "metadata": {
  "kernelspec": {
   "display_name": "Java",
   "language": "java",
   "name": "java"
  },
  "language_info": {
   "codemirror_mode": "java",
   "file_extension": ".jshell",
   "mimetype": "text/x-java-source",
   "name": "Java",
   "pygments_lexer": "java",
   "version": "17.0.9+0"
  }
 },
 "nbformat": 4,
 "nbformat_minor": 5
}
