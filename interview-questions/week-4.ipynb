{
 "cells": [
  {
   "cell_type": "markdown",
   "id": "b6b1d1fa-6ec3-4cb3-b095-42aa3e3702e9",
   "metadata": {},
   "source": [
    "**Dynamic median.** Design a data type that supports insert in logarithmic time, find-the-median in constant time, and remove-the-median in logarithmic time. If the number of keys in the data type is even, find/remove the lower median."
   ]
  },
  {
   "cell_type": "code",
   "execution_count": 9,
   "id": "e2efed79-5395-46b8-842f-1926a0d65d11",
   "metadata": {},
   "outputs": [],
   "source": [
    "%jars ../src/algs4.jar\n",
    "import edu.princeton.cs.algs4.StdOut;\n",
    "import edu.princeton.cs.algs4.MinPQ;\n",
    "import edu.princeton.cs.algs4.MaxPQ;"
   ]
  },
  {
   "cell_type": "code",
   "execution_count": 7,
   "id": "0fc23190-49a4-4849-a2e9-b666608459df",
   "metadata": {},
   "outputs": [],
   "source": [
    "class DynamicMedian<T extends Comparable<T>> {\n",
    "    private MinPQ<T> big = new MinPQ<>();\n",
    "    private MaxPQ<T> small = new MaxPQ<>();\n",
    "\n",
    "    // API\n",
    "    public void insert(T x) {\n",
    "        // insert first element.\n",
    "        if (small.size() == 0 && big.size() == 0)\n",
    "            small.insert(x);\n",
    "\n",
    "        // insert according to boundaries if they exist\n",
    "        if (big.size() != 0 && x.compareTo(big.min()) < 0)\n",
    "            small.insert(x);\n",
    "        else \n",
    "            big.insert(x);\n",
    "\n",
    "        // ensure the two heaps are within size diff == 1.\n",
    "        if (Math.abs(big.size() - small.size()) > 1) {\n",
    "            if (big.size() > small.size()) {\n",
    "                small.insert(big.min());\n",
    "                big.delMin();\n",
    "            } else {\n",
    "                big.insert(small.max());\n",
    "                small.delMax();\n",
    "            }\n",
    "        }\n",
    "    }\n",
    "    \n",
    "    public T median() {\n",
    "        if (big.size() > small.size())\n",
    "            return big.min();\n",
    "        else\n",
    "            return small.max();\n",
    "    }\n",
    "    \n",
    "    public void removeMedian() {\n",
    "        if (big.size() > small.size())\n",
    "            big.delMin();\n",
    "        else \n",
    "            small.delMax();\n",
    "    }\n",
    "    \n",
    "    // private methods\n",
    "\n",
    "    // test\n",
    "    public static void main(String[] args) {\n",
    "        int[] a = {1,5,6,1,89,9,1,3,5,7,9};\n",
    "        DynamicMedian<Integer> med = new DynamicMedian<>();\n",
    "        for (Integer x : a) {\n",
    "            med.insert(x);\n",
    "            System.out.println(\"Median is \" + med.median());\n",
    "        }\n",
    "    }\n",
    "}"
   ]
  },
  {
   "cell_type": "code",
   "execution_count": 8,
   "id": "063b7846-639b-47c0-b42e-f58b81cd8357",
   "metadata": {},
   "outputs": [
    {
     "name": "stdout",
     "output_type": "stream",
     "text": [
      "Median is 1\n",
      "Median is 1\n",
      "Median is 1\n",
      "Median is 1\n",
      "Median is 1\n",
      "Median is 5\n",
      "Median is 1\n",
      "Median is 3\n",
      "Median is 3\n",
      "Median is 5\n",
      "Median is 5\n"
     ]
    }
   ],
   "source": [
    "DynamicMedian.main(null);"
   ]
  },
  {
   "cell_type": "markdown",
   "id": "86b4deec-8b78-44c5-a24d-8726550a676a",
   "metadata": {},
   "source": [
    "Java autoboxing and `equals()`. Consider two `double` values `a` and `b` and their corresponding `Double` values `x` and `y`.\n",
    "\n",
    "1. Find values such that `(a == b)` is `true` but `x.equals(y)` is `false`.\n",
    "2. Find values such that `(a == b)` is `false` but `x.equals(y)` is `true`.\n"
   ]
  },
  {
   "cell_type": "code",
   "execution_count": 28,
   "id": "0e8024e2-e7d5-460f-96fe-7c08964894ac",
   "metadata": {},
   "outputs": [
    {
     "name": "stdout",
     "output_type": "stream",
     "text": [
      "Success!\n",
      "Success!\n"
     ]
    }
   ],
   "source": [
    "double a = 0.0;\n",
    "double b = -0.0;\n",
    "Double x = a;\n",
    "Double y = b;\n",
    "if (a == b && !x.equals(y)) {\n",
    "    StdOut.println(\"Success!\");\n",
    "} else {\n",
    "    StdOut.println(\"No go :(\");\n",
    "}\n",
    "\n",
    "double a = Double.NaN;\n",
    "double b = Double.NaN;\n",
    "Double x = a;\n",
    "Double y = b;\n",
    "\n",
    "if (a != b && x.equals(y)) {\n",
    "    StdOut.println(\"Success!\");\n",
    "} else {\n",
    "    StdOut.println(\"No go :(\");\n",
    "}"
   ]
  },
  {
   "cell_type": "markdown",
   "id": "a2dfca6c-836e-4994-bf27-4a21b81627f1",
   "metadata": {},
   "source": [
    "Check if a binary tree is a BST. Given a binary tree where each Node contains a key, determine whether it is a binary search tree. Use extra space proportional to the height of the tree."
   ]
  },
  {
   "cell_type": "code",
   "execution_count": 4,
   "id": "100769db-5d1d-48df-90dd-b71b2e581dd2",
   "metadata": {},
   "outputs": [],
   "source": [
    "public class TreeNode {\n",
    "  int val;\n",
    "  TreeNode left;\n",
    "  TreeNode right;\n",
    "  TreeNode() {}\n",
    "  TreeNode(int val) { this.val = val; }\n",
    "  TreeNode(int val, TreeNode left, TreeNode right) {\n",
    "      this.val = val;\n",
    "      this.left = left;\n",
    "      this.right = right;\n",
    "  }\n",
    "}\n",
    "class Solution {\n",
    "    public boolean isValidBST(TreeNode root) {\n",
    "        int[] results = isValid(root);\n",
    "        return results[0] != 0;\n",
    "    }\n",
    "\n",
    "    private int[] isValid(TreeNode root) {\n",
    "        // results[0] is 1, 0 for is valid.\n",
    "        // results[1] is the min of the tree\n",
    "        // results[2] is the max of the tree\n",
    "        if (root.left == null && root.right == null) return new int[]{1, root.val, root.val};\n",
    "        int[] leftTree = new int[]  {0, root.val, root.val};\n",
    "        int[] rightTree = new int[] {0, root.val, root.val};\n",
    "        if (root.left != null) {\n",
    "            int[] lT  = isValid(root.left);\n",
    "            if (lT[0] == 0) return new int[]{0,0,0};\n",
    "            if (lT[2] >= root.val) return new int[]{0,0,0};\n",
    "            leftTree = new int[] {1, Math.min(leftTree[1], lT[1]), Math.max(leftTree[2], lT[2])};\n",
    "        }\n",
    "        if (root.right != null) {\n",
    "            int[] rT = isValid(root.right);\n",
    "            if ( rT[0] == 0 ) return new int[]{0,0,0};\n",
    "            if ( rT[1] <= root.val) return new int[]{0,0,0};\n",
    "            rightTree = new int[] {1, Math.min(rightTree[1], rT[1]), Math.max(rightTree[2], rT[2])};\n",
    "\n",
    "        }\n",
    "        return new int[]{1, leftTree[1], rightTree[2]};\n",
    "    }\n",
    "}"
   ]
  },
  {
   "cell_type": "markdown",
   "id": "b86a93e4-b450-4de2-8e60-aedfa298f99c",
   "metadata": {},
   "source": [
    "Inorder traversal with constant extra space. Design an algorithm to perform an inorder traversal of a binary search tree using only a constant amount of extra space."
   ]
  },
  {
   "cell_type": "code",
   "execution_count": 5,
   "id": "097c61a5-63ed-43e8-997d-b0f7c7c2c2eb",
   "metadata": {},
   "outputs": [],
   "source": [
    "/**\n",
    " * Definition for a binary tree node.\n",
    " * public class TreeNode {\n",
    " *     int val;\n",
    " *     TreeNode left;\n",
    " *     TreeNode right;\n",
    " *     TreeNode() {}\n",
    " *     TreeNode(int val) { this.val = val; }\n",
    " *     TreeNode(int val, TreeNode left, TreeNode right) {\n",
    " *         this.val = val;\n",
    " *         this.left = left;\n",
    " *         this.right = right;\n",
    " *     }\n",
    " * }\n",
    " */\n",
    "class Solution {\n",
    "    public List<Integer> inorderTraversal(TreeNode root) {\n",
    "        List<Integer> left = new LinkedList<>();\n",
    "        if (root == null) return left;\n",
    "        List<Integer> right;\n",
    "        \n",
    "        left = inorderTraversal(root.left);\n",
    "        left.add(root.val);\n",
    "        right = inorderTraversal(root.right);\n",
    "        left.addAll(right);\n",
    "\n",
    "        return left;\n",
    "    }\n",
    "}"
   ]
  },
  {
   "cell_type": "markdown",
   "id": "0107bae2-915a-473f-88a2-302190af004e",
   "metadata": {},
   "source": [
    "**Web tracking.** Suppose that you are tracking `n` web sites and \n",
    "`m` users and you want to support the following API:\n",
    "\n",
    " * User visits a website.\n",
    " * How many times has a given user visited a given site?\n",
    "\n",
    "What data structure or data structures would you use?"
   ]
  },
  {
   "cell_type": "markdown",
   "id": "98bcf149-67b3-40bf-a708-a7a74861355d",
   "metadata": {},
   "source": [
    "SymbolTable of SymbolTables. The top table maps the user name to their SymbolTable which will mape a \"website\" to a the number of times they've visited."
   ]
  },
  {
   "cell_type": "code",
   "execution_count": null,
   "id": "e30c89fc-8fae-4fe2-a653-cca36d3ecc5c",
   "metadata": {},
   "outputs": [],
   "source": []
  }
 ],
 "metadata": {
  "kernelspec": {
   "display_name": "Java",
   "language": "java",
   "name": "java"
  },
  "language_info": {
   "codemirror_mode": "java",
   "file_extension": ".jshell",
   "mimetype": "text/x-java-source",
   "name": "Java",
   "pygments_lexer": "java",
   "version": "17.0.9+0"
  }
 },
 "nbformat": 4,
 "nbformat_minor": 5
}
